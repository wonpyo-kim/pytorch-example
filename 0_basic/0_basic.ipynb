{
 "cells": [
  {
   "cell_type": "code",
   "execution_count": 1,
   "metadata": {},
   "outputs": [],
   "source": [
    "import torch\n",
    "import numpy as np"
   ]
  },
  {
   "cell_type": "code",
   "execution_count": 2,
   "metadata": {},
   "outputs": [
    {
     "data": {
      "text/plain": [
       "tensor([[ 7.5537e-37,  0.0000e+00,  6.0256e-44,  0.0000e+00],\n",
       "        [        nan,  0.0000e+00,  1.3733e-14,  9.5680e+20],\n",
       "        [ 7.2065e+31,  2.6301e+20,  1.4601e-19,  6.4069e+02],\n",
       "        [ 4.3066e+21,  1.1824e+22,  4.3066e+21,  6.3828e+28],\n",
       "        [ 3.8016e-39,  0.0000e+00,  0.0000e+00,  0.0000e+00]])"
      ]
     },
     "execution_count": 2,
     "metadata": {},
     "output_type": "execute_result"
    }
   ],
   "source": [
    "torch.Tensor(5, 4)"
   ]
  },
  {
   "cell_type": "code",
   "execution_count": 3,
   "metadata": {},
   "outputs": [
    {
     "data": {
      "text/plain": [
       "tensor([[ 0.7258,  0.8116,  0.8203,  0.3740],\n",
       "        [ 0.3941,  0.4025,  0.8346,  0.8967],\n",
       "        [ 0.0736,  0.3973,  0.9237,  0.1234],\n",
       "        [ 0.4332,  0.6658,  0.2405,  0.1569],\n",
       "        [ 0.7188,  0.7333,  0.5685,  0.2664]])"
      ]
     },
     "execution_count": 3,
     "metadata": {},
     "output_type": "execute_result"
    }
   ],
   "source": [
    "torch.rand(5, 4)"
   ]
  },
  {
   "cell_type": "code",
   "execution_count": 4,
   "metadata": {},
   "outputs": [
    {
     "data": {
      "text/plain": [
       "torch.Size([5, 5])"
      ]
     },
     "execution_count": 4,
     "metadata": {},
     "output_type": "execute_result"
    }
   ],
   "source": [
    "a = torch.rand(5, 5)\n",
    "a.size()"
   ]
  },
  {
   "cell_type": "code",
   "execution_count": 5,
   "metadata": {},
   "outputs": [
    {
     "data": {
      "text/plain": [
       "array([[ 1.,  1.,  1.,  1.,  1.],\n",
       "       [ 1.,  1.,  1.,  1.,  1.],\n",
       "       [ 1.,  1.,  1.,  1.,  1.],\n",
       "       [ 1.,  1.,  1.,  1.,  1.],\n",
       "       [ 1.,  1.,  1.,  1.,  1.]])"
      ]
     },
     "execution_count": 5,
     "metadata": {},
     "output_type": "execute_result"
    }
   ],
   "source": [
    "np.ones((5, 5))"
   ]
  },
  {
   "cell_type": "code",
   "execution_count": 6,
   "metadata": {},
   "outputs": [
    {
     "name": "stdout",
     "output_type": "stream",
     "text": [
      "[[ 0.6021235   0.46670824  0.22745287  0.60059112  0.34200472]\n",
      " [ 0.06085724  0.6561175   0.0411126   0.63788861  0.34110409]\n",
      " [ 0.65715438  0.13704908  0.65180141  0.40988356  0.10478371]\n",
      " [ 0.75503784  0.45156294  0.78489494  0.3308875   0.80783957]\n",
      " [ 0.32358497  0.15543169  0.0373286   0.24785948  0.44691348]]\n"
     ]
    }
   ],
   "source": [
    "a = torch.rand(5, 5)\n",
    "b = a.numpy()\n",
    "print(b)"
   ]
  },
  {
   "cell_type": "code",
   "execution_count": 7,
   "metadata": {},
   "outputs": [
    {
     "name": "stdout",
     "output_type": "stream",
     "text": [
      "[[3 4]\n",
      " [3 6]]\n"
     ]
    }
   ],
   "source": [
    "a = np.array([[3, 4], [3, 6]])\n",
    "b = torch.from_numpy(a)\n",
    "print(a)"
   ]
  },
  {
   "cell_type": "code",
   "execution_count": 8,
   "metadata": {},
   "outputs": [
    {
     "name": "stdout",
     "output_type": "stream",
     "text": [
      "tensor([[ 0.1459,  0.0795,  2.2001,  1.0459],\n",
      "        [ 0.0826,  1.8146,  2.3179,  1.2194],\n",
      "        [ 2.0288,  0.6493,  1.6268,  0.7882],\n",
      "        [ 1.3682,  0.2291,  1.7882,  1.5958],\n",
      "        [ 1.0465,  0.2106,  1.7432,  1.4942]])\n"
     ]
    }
   ],
   "source": [
    "x = torch.rand(5, 4)\n",
    "y = torch.rand(5, 4)\n",
    "c = 3\n",
    "print(c*x)"
   ]
  },
  {
   "cell_type": "code",
   "execution_count": 9,
   "metadata": {},
   "outputs": [
    {
     "name": "stdout",
     "output_type": "stream",
     "text": [
      "tensor([[ 0.1040,  0.4478,  1.3780,  0.8503],\n",
      "        [ 0.1682,  1.1784,  1.1599,  0.7506],\n",
      "        [ 0.9668,  0.9495,  1.0766,  1.0679],\n",
      "        [ 0.5855,  0.2279,  0.9229,  1.0983],\n",
      "        [ 1.2115,  0.8331,  0.9593,  0.6578]])\n"
     ]
    }
   ],
   "source": [
    "print(x+y)"
   ]
  },
  {
   "cell_type": "code",
   "execution_count": 10,
   "metadata": {},
   "outputs": [
    {
     "name": "stdout",
     "output_type": "stream",
     "text": [
      "tensor([[ 0.1040,  0.4478,  1.3780,  0.8503],\n",
      "        [ 0.1682,  1.1784,  1.1599,  0.7506],\n",
      "        [ 0.9668,  0.9495,  1.0766,  1.0679],\n",
      "        [ 0.5855,  0.2279,  0.9229,  1.0983],\n",
      "        [ 1.2115,  0.8331,  0.9593,  0.6578]])\n"
     ]
    }
   ],
   "source": [
    "print(x.add(y))"
   ]
  },
  {
   "cell_type": "code",
   "execution_count": 11,
   "metadata": {},
   "outputs": [
    {
     "data": {
      "text/plain": [
       "False"
      ]
     },
     "execution_count": 11,
     "metadata": {},
     "output_type": "execute_result"
    }
   ],
   "source": [
    "torch.cuda.is_available()"
   ]
  },
  {
   "cell_type": "code",
   "execution_count": 12,
   "metadata": {},
   "outputs": [],
   "source": [
    "from torch.autograd import Variable"
   ]
  },
  {
   "cell_type": "code",
   "execution_count": 13,
   "metadata": {},
   "outputs": [],
   "source": [
    "x = Variable(torch.Tensor([3]), requires_grad=True)\n",
    "y = Variable(torch.Tensor([5]), requires_grad=True)\n",
    "z = 2 * x + y + 4"
   ]
  },
  {
   "cell_type": "code",
   "execution_count": 14,
   "metadata": {},
   "outputs": [],
   "source": [
    "z.backward()"
   ]
  },
  {
   "cell_type": "code",
   "execution_count": 15,
   "metadata": {},
   "outputs": [
    {
     "name": "stdout",
     "output_type": "stream",
     "text": [
      "dz/dx: tensor([ 2.])\n",
      "dz/dy: tensor([ 1.])\n"
     ]
    }
   ],
   "source": [
    "print('dz/dx: {}'.format(x.grad.data))\n",
    "print('dz/dy: {}'.format(y.grad.data))"
   ]
  },
  {
   "cell_type": "code",
   "execution_count": null,
   "metadata": {},
   "outputs": [],
   "source": []
  }
 ],
 "metadata": {
  "kernelspec": {
   "display_name": "Python 3",
   "language": "python",
   "name": "python3"
  },
  "language_info": {
   "codemirror_mode": {
    "name": "ipython",
    "version": 3
   },
   "file_extension": ".py",
   "mimetype": "text/x-python",
   "name": "python",
   "nbconvert_exporter": "python",
   "pygments_lexer": "ipython3",
   "version": "3.5.2"
  }
 },
 "nbformat": 4,
 "nbformat_minor": 2
}
